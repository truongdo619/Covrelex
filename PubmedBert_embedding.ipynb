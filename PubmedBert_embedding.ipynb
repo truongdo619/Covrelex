{
  "nbformat": 4,
  "nbformat_minor": 0,
  "metadata": {
    "colab": {
      "name": "PubmedBert_embedding.ipynb",
      "provenance": [],
      "collapsed_sections": [],
      "authorship_tag": "ABX9TyP2rew+a93jSiRLaOzWZih9",
      "include_colab_link": true
    },
    "kernelspec": {
      "name": "python3",
      "display_name": "Python 3"
    },
    "language_info": {
      "name": "python"
    }
  },
  "cells": [
    {
      "cell_type": "markdown",
      "metadata": {
        "id": "view-in-github",
        "colab_type": "text"
      },
      "source": [
        "<a href=\"https://colab.research.google.com/github/truongdo619/Covrelex/blob/main/PubmedBert_embedding.ipynb\" target=\"_parent\"><img src=\"https://colab.research.google.com/assets/colab-badge.svg\" alt=\"Open In Colab\"/></a>"
      ]
    },
    {
      "cell_type": "code",
      "execution_count": null,
      "metadata": {
        "id": "QZTgDMOKjPb4"
      },
      "outputs": [],
      "source": [
        "import torch\n",
        "\n",
        "abc = torch.rand(1000000, 700)\n",
        "torch.save(abc, 'tensor.pt')"
      ]
    },
    {
      "cell_type": "code",
      "source": [
        "!ls -alh"
      ],
      "metadata": {
        "colab": {
          "base_uri": "https://localhost:8080/"
        },
        "id": "S-ZDFD4Aj5q0",
        "outputId": "8f1635e5-f59a-4c3b-9848-251327c64152"
      },
      "execution_count": null,
      "outputs": [
        {
          "output_type": "stream",
          "name": "stdout",
          "text": [
            "total 2.7G\n",
            "drwxr-xr-x 1 root root 4.0K Dec 21 15:15 .\n",
            "drwxr-xr-x 1 root root 4.0K Dec 21 15:12 ..\n",
            "drwxr-xr-x 4 root root 4.0K Dec  3 14:33 .config\n",
            "drwxr-xr-x 1 root root 4.0K Dec  3 14:33 sample_data\n",
            "-rw-r--r-- 1 root root 2.7G Dec 21 15:16 tensor.pt\n"
          ]
        }
      ]
    }
  ]
}